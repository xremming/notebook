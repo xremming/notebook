{
 "cells": [
  {
   "cell_type": "code",
   "execution_count": 7,
   "metadata": {},
   "outputs": [
    {
     "data": {
      "text/plain": [
       "([1, 162, 26, 19, 0], [[1, 162, 26], [162, 26, 19], [26, 19, 0]])"
      ]
     },
     "execution_count": 7,
     "metadata": {},
     "output_type": "execute_result"
    }
   ],
   "source": [
    "from itertools import islice\n",
    "from pathlib import Path\n",
    "import json\n",
    "import re\n",
    "\n",
    "import requests\n",
    "\n",
    "from mtg_load import load_mtg_oracle\n",
    "\n",
    "\n",
    "parentheses_re = re.compile(r'\\([^)]*\\)')\n",
    "\n",
    "def remove_parentheses(text):\n",
    "    return parentheses_re.sub('', text)\n",
    "\n",
    "\n",
    "def remove_punctuation(text: str) -> str:\n",
    "    out = []\n",
    "    for c in text:\n",
    "        if c in {\"\\n\", \"\\r\", \"\\t\"}:\n",
    "            out.append(\" \")\n",
    "        if c.isspace() or c.isalnum():\n",
    "            out.append(c)\n",
    "        elif c in {\"~\", \"{\", \"}\", \"+\", \"-\", \"/\"}:\n",
    "            out.append(c)\n",
    "            if c == \"}\":\n",
    "                out.append(\" \")\n",
    "        else:\n",
    "            out.append(\" \")\n",
    "\n",
    "    return \"\".join(out)\n",
    "\n",
    "\n",
    "def clean_oracle_text(text: str) -> list[str]:\n",
    "    no_parentheses = remove_parentheses(text)\n",
    "    no_newlines = no_parentheses.replace(\"\\n\", \" \")\n",
    "    no_punctuation = remove_punctuation(no_newlines)\n",
    "    no_upper = no_punctuation.lower()\n",
    "\n",
    "    return no_upper.split()\n",
    "\n",
    "\n",
    "data = load_mtg_oracle()\n",
    "data = ((card[\"name\"], card.get(\"oracle_text\")) for card in data)\n",
    "\n",
    "# replace card names with ~\n",
    "no_card_names = ((name, text.replace(name, \"~\")) for name, text in data if text is not None)\n",
    "\n",
    "# remove punctuation\n",
    "cleaned = ((name, clean_oracle_text(text)) for name, text in no_card_names)\n",
    "\n",
    "# for name, text in word_splits:\n",
    "#     print(name, \" \".join(text), sep=\"\\n\", end=\"\\n\\n\")\n",
    "\n",
    "lpad = \"<lpad>\"\n",
    "rpad = \"<rpad>\"\n",
    "\n",
    "bag_of_words: dict[str, int] = {rpad: 0, lpad: 1}\n",
    "\n",
    "index: int = 2\n",
    "for name, text in cleaned:\n",
    "    for word in text:\n",
    "        if word in bag_of_words:\n",
    "            continue\n",
    "        bag_of_words[word] = index\n",
    "        index += 1\n",
    "\n",
    "\n",
    "def vectorize(text: str) -> list[int]:\n",
    "    return [bag_of_words[word] for word in [lpad, *clean_oracle_text(text), rpad]]\n",
    "\n",
    "\n",
    "def windows(seq: list[int], n: int) -> list[list[int]]:\n",
    "    \"\"\"Returns a sliding window (of width n) over data from the iterable\"\"\"\n",
    "    it = iter(seq)\n",
    "    result = [list(islice(it, n))]\n",
    "    for e in it:\n",
    "        result.append(result[-1][1:] + [e])\n",
    "    return result\n",
    "\n",
    "v = vectorize(\"Destroy target creature.\")\n",
    "\n",
    "v, windows(v, 3)"
   ]
  }
 ],
 "metadata": {
  "kernelspec": {
   "display_name": "Python 3",
   "language": "python",
   "name": "python3"
  },
  "language_info": {
   "codemirror_mode": {
    "name": "ipython",
    "version": 3
   },
   "file_extension": ".py",
   "mimetype": "text/x-python",
   "name": "python",
   "nbconvert_exporter": "python",
   "pygments_lexer": "ipython3",
   "version": "3.11.3"
  },
  "orig_nbformat": 4
 },
 "nbformat": 4,
 "nbformat_minor": 2
}
