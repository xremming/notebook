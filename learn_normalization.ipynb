{
 "cells": [
  {
   "cell_type": "markdown",
   "metadata": {},
   "source": [
    "Following from [this](https://www.tensorflow.org/tutorials/structured_data/preprocessing_layers) tutorial and adapting it for my MtG uses."
   ]
  },
  {
   "cell_type": "code",
   "execution_count": 36,
   "metadata": {},
   "outputs": [],
   "source": [
    "import tensorflow as tf\n",
    "import pandas as pd\n",
    "\n",
    "\n",
    "def df_to_dataset(dataframe, shuffle=True, batch_size=32):\n",
    "    df = dataframe.copy()\n",
    "    # labels = df.pop('target')\n",
    "    # df = {key: value[:,tf.newaxis] for key, value in dataframe.items()}\n",
    "    ds = tf.data.Dataset.from_tensor_slices(df.to_dict(\"list\"))\n",
    "    if shuffle:\n",
    "        ds = ds.shuffle(buffer_size=len(dataframe))\n",
    "    ds = ds.batch(batch_size)\n",
    "    ds = ds.prefetch(batch_size)\n",
    "    return ds\n",
    "\n",
    "\n",
    "def get_string_category_layer(name, dataset):\n",
    "    index = tf.keras.layers.StringLookup()\n",
    "    index.adapt(dataset.map(lambda x: x[name]))\n",
    "\n",
    "    encoder = tf.keras.layers.CategoryEncoding(num_tokens=index.vocabulary_size())\n",
    "\n",
    "    return lambda feature: encoder(index(feature))"
   ]
  },
  {
   "cell_type": "code",
   "execution_count": 37,
   "metadata": {},
   "outputs": [
    {
     "data": {
      "text/plain": [
       "<function __main__.get_string_category_layer.<locals>.<lambda>(feature)>"
      ]
     },
     "execution_count": 37,
     "metadata": {},
     "output_type": "execute_result"
    }
   ],
   "source": [
    "test_data = pd.DataFrame({\n",
    "    \"Type Line\": [\"creature legendary\", \"creature\", \"land\", \"land legendary\"],\n",
    "    \"Set\": [\"KTK\", \"KTK\", \"KTK\", \"KTK\"],\n",
    "    \"Color\": [\"W\", \"B\", \"\", \"UB\"],\n",
    "})\n",
    "\n",
    "# tf.data.Dataset.from_tensor_slices(test_data.to_dict(\"list\"))\n",
    "dataset = df_to_dataset(test_data, shuffle=False, batch_size=1)\n",
    "# dataset.map(lambda x: x[\"Type Line\"])\n",
    "\n",
    "get_string_category_layer(\"Type Line\", dataset)"
   ]
  }
 ],
 "metadata": {
  "kernelspec": {
   "display_name": "Python 3",
   "language": "python",
   "name": "python3"
  },
  "language_info": {
   "codemirror_mode": {
    "name": "ipython",
    "version": 3
   },
   "file_extension": ".py",
   "mimetype": "text/x-python",
   "name": "python",
   "nbconvert_exporter": "python",
   "pygments_lexer": "ipython3",
   "version": "3.11.3"
  },
  "orig_nbformat": 4
 },
 "nbformat": 4,
 "nbformat_minor": 2
}
