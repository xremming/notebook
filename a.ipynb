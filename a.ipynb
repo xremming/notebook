{
 "cells": [
  {
   "cell_type": "code",
   "execution_count": 10,
   "metadata": {},
   "outputs": [],
   "source": [
    "from typing import overload, TypeVarTuple\n",
    "\n",
    "\n",
    "Cs = TypeVarTuple(\"Cs\")\n",
    "\n",
    "\n",
    "# @overload\n",
    "# def f(c1: int) -> tuple[int, tuple[int]]:\n",
    "#     ...\n",
    "\n",
    "# @overload\n",
    "# def f(c1: int, c2: int) -> tuple[int, tuple[int, int]]:\n",
    "#     ...\n",
    "\n",
    "def f(*cs: tuple[*Cs]) -> tuple[int, tuple[*Cs]]:\n",
    "    return len(cs), cs\n"
   ]
  },
  {
   "cell_type": "code",
   "execution_count": 47,
   "metadata": {},
   "outputs": [],
   "source": [
    "from dataclasses import dataclass\n",
    "from typing import Any, Generic, Iterable, NewType, Optional, TypeVar, TypeVarTuple\n",
    "\n",
    "\n",
    "Entity = NewType(\"Entity\", int)\n",
    "\n",
    "Cs = TypeVarTuple(\"Cs\")\n",
    "R = TypeVar(\"R\")\n",
    "\n",
    "\n",
    "class Query(Generic[*Cs]):\n",
    "    def __init__(self, *components: type):\n",
    "        self.components = components\n",
    "\n",
    "    def values(self) -> Iterable[tuple[Entity, tuple[*Cs]]]:\n",
    "        ...\n",
    "\n",
    "\n",
    "class Resource(Generic[R]):\n",
    "    def __init__(self, resource_type: type[R]):\n",
    "        self.resource_type = resource_type\n",
    "\n",
    "\n",
    "class Commands:\n",
    "    def spawn_entity(self, *components: Any) -> Entity:\n",
    "        ...\n",
    "\n",
    "    def add_component(self, entity: Entity, component: Any) -> None:\n",
    "        ...\n",
    "\n",
    "    def remove_component(self, entity: Entity, component: type) -> None:\n",
    "        ...\n",
    "\n",
    "\n",
    "@dataclass\n",
    "class Vec2:\n",
    "    x: float = 0\n",
    "    y: float = 0\n",
    "\n",
    "\n",
    "class Position(Vec2):\n",
    "    pass\n",
    "\n",
    "\n",
    "class Velocity(Vec2):\n",
    "    pass\n",
    "\n",
    "\n",
    "@dataclass\n",
    "class PhysicsConstants:\n",
    "    gravity: float = 9.81\n",
    "    air_drag: float = 0.1\n",
    "\n",
    "t: tuple[ int, str ] = (1, \"2\")\n",
    "\n",
    "def update_position(\n",
    "    cmds: Commands,\n",
    "    c: Resource[PhysicsConstants],\n",
    "    entities: Query[Position, Velocity],\n",
    "    c2: Resource[Optional[PhysicsConstants]],\n",
    ") -> None:\n",
    "    ..."
   ]
  },
  {
   "cell_type": "code",
   "execution_count": 53,
   "metadata": {},
   "outputs": [
    {
     "name": "stdout",
     "output_type": "stream",
     "text": [
      "Commands\n",
      "Resource (<class '__main__.PhysicsConstants'>,)\n",
      "Query (<class '__main__.Position'>, <class '__main__.Velocity'>)\n",
      "Resource (typing.Optional[__main__.PhysicsConstants],)\n"
     ]
    },
    {
     "data": {
      "text/plain": [
       "(__main__.Position, __main__.Velocity)"
      ]
     },
     "execution_count": 53,
     "metadata": {},
     "output_type": "execute_result"
    }
   ],
   "source": [
    "import inspect\n",
    "\n",
    "\n",
    "for k, v in inspect.signature(update_position).parameters.items():\n",
    "    a = v.annotation\n",
    "\n",
    "    if a is Commands:\n",
    "        print(\"Commands\")\n",
    "\n",
    "    elif a.__origin__ is Resource:\n",
    "        print(\"Resource\", a.__args__)\n",
    "\n",
    "    elif a.__origin__ is Query:\n",
    "        print(\"Query\", a.__args__)\n",
    "\n",
    "\n",
    "inspect.signature(update_position).parameters[\"entities\"].annotation.__args__"
   ]
  }
 ],
 "metadata": {
  "kernelspec": {
   "display_name": "Python 3",
   "language": "python",
   "name": "python3"
  },
  "language_info": {
   "codemirror_mode": {
    "name": "ipython",
    "version": 3
   },
   "file_extension": ".py",
   "mimetype": "text/x-python",
   "name": "python",
   "nbconvert_exporter": "python",
   "pygments_lexer": "ipython3",
   "version": "3.11.5"
  },
  "orig_nbformat": 4
 },
 "nbformat": 4,
 "nbformat_minor": 2
}
