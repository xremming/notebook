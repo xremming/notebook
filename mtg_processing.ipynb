{
 "cells": [
  {
   "cell_type": "code",
   "execution_count": 73,
   "metadata": {},
   "outputs": [],
   "source": [
    "import hashlib\n",
    "from pathlib import Path\n",
    "\n",
    "import pandas as pd\n",
    "import requests\n",
    "from tqdm import tqdm_notebook as tqdm\n",
    "\n",
    "\n",
    "def get_hash(url):\n",
    "    return hashlib.md5(url.encode(\"utf-8\")).hexdigest()\n",
    "\n",
    "\n",
    "df = pd.read_csv(\"data/mtg.csv\")\n",
    "\n",
    "# df.groupby(\"Kind\").nunique()\n",
    "for _, row in tqdm(df.groupby(\"Kind\").sample(24).filter([\"Kind\", \"Image URL\"]).iterrows()):\n",
    "    kind = row[\"Kind\"]\n",
    "    url = row[\"Image URL\"]\n",
    "\n",
    "    p = Path(\"data\") / \"cards\" / \"kind\" / str(kind) / f\"{get_hash(url)}.jpg\"\n",
    "    p.parent.mkdir(parents=True, exist_ok=True)\n",
    "\n",
    "    r = requests.get(url)\n",
    "    r.raise_for_status()\n",
    "    with open(p, \"wb\") as f:\n",
    "        f.write(r.content)"
   ]
  },
  {
   "cell_type": "code",
   "execution_count": 81,
   "metadata": {},
   "outputs": [
    {
     "data": {
      "text/html": [
       "<div>\n",
       "<style scoped>\n",
       "    .dataframe tbody tr th:only-of-type {\n",
       "        vertical-align: middle;\n",
       "    }\n",
       "\n",
       "    .dataframe tbody tr th {\n",
       "        vertical-align: top;\n",
       "    }\n",
       "\n",
       "    .dataframe thead th {\n",
       "        text-align: right;\n",
       "    }\n",
       "</style>\n",
       "<table border=\"1\" class=\"dataframe\">\n",
       "  <thead>\n",
       "    <tr style=\"text-align: right;\">\n",
       "      <th></th>\n",
       "      <th>Frame</th>\n",
       "      <th>Image URL</th>\n",
       "    </tr>\n",
       "  </thead>\n",
       "  <tbody>\n",
       "    <tr>\n",
       "      <th>171010</th>\n",
       "      <td>1993</td>\n",
       "      <td>https://cards.scryfall.io/small/front/7/f/7ff9...</td>\n",
       "    </tr>\n",
       "    <tr>\n",
       "      <th>194123</th>\n",
       "      <td>1997</td>\n",
       "      <td>https://cards.scryfall.io/small/front/9/1/9161...</td>\n",
       "    </tr>\n",
       "    <tr>\n",
       "      <th>89863</th>\n",
       "      <td>2003</td>\n",
       "      <td>https://cards.scryfall.io/small/front/4/3/4366...</td>\n",
       "    </tr>\n",
       "    <tr>\n",
       "      <th>81364</th>\n",
       "      <td>2015</td>\n",
       "      <td>https://cards.scryfall.io/small/front/3/c/3cf2...</td>\n",
       "    </tr>\n",
       "  </tbody>\n",
       "</table>\n",
       "</div>"
      ],
      "text/plain": [
       "       Frame                                          Image URL\n",
       "171010  1993  https://cards.scryfall.io/small/front/7/f/7ff9...\n",
       "194123  1997  https://cards.scryfall.io/small/front/9/1/9161...\n",
       "89863   2003  https://cards.scryfall.io/small/front/4/3/4366...\n",
       "81364   2015  https://cards.scryfall.io/small/front/3/c/3cf2..."
      ]
     },
     "execution_count": 81,
     "metadata": {},
     "output_type": "execute_result"
    }
   ],
   "source": [
    "df.where(df[\"Frame\"] != \"future\").filter([\"Frame\", \"Image URL\"]).dropna().groupby(\"Frame\").sample(1)"
   ]
  }
 ],
 "metadata": {
  "kernelspec": {
   "display_name": "Python 3",
   "language": "python",
   "name": "python3"
  },
  "language_info": {
   "codemirror_mode": {
    "name": "ipython",
    "version": 3
   },
   "file_extension": ".py",
   "mimetype": "text/x-python",
   "name": "python",
   "nbconvert_exporter": "python",
   "pygments_lexer": "ipython3",
   "version": "3.11.3"
  },
  "orig_nbformat": 4
 },
 "nbformat": 4,
 "nbformat_minor": 2
}
