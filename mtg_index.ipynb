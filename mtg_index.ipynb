{
 "cells": [
  {
   "cell_type": "code",
   "execution_count": 17,
   "metadata": {},
   "outputs": [],
   "source": [
    "import json\n",
    "from itertools import chain\n",
    "from dataclasses import dataclass\n",
    "\n",
    "\n",
    "cards = []\n",
    "\n",
    "def get_names(card):\n",
    "    if card_faces := card.get(\"card_faces\"):\n",
    "        return set(chain.from_iterable(map(get_names, card_faces)))\n",
    "\n",
    "    return set(filter(None, [card.get(\"printed_name\", card[\"name\"]), card.get(\"flavor_name\")]))\n",
    "\n",
    "with open(\"data/mtg-all_cards.jsonl\", \"r\", encoding=\"utf-8\") as fp:\n",
    "    for line in fp:\n",
    "        card = json.loads(line)\n",
    "        cards.append({\"id\":card[\"id\"], \"names\": list(get_names(card))})\n",
    "\n",
    "with open(\"dump.json\", \"w\") as fp:\n",
    "    json.dump(cards, fp, indent=2)\n"
   ]
  }
 ],
 "metadata": {
  "kernelspec": {
   "display_name": "Python 3",
   "language": "python",
   "name": "python3"
  },
  "language_info": {
   "codemirror_mode": {
    "name": "ipython",
    "version": 3
   },
   "file_extension": ".py",
   "mimetype": "text/x-python",
   "name": "python",
   "nbconvert_exporter": "python",
   "pygments_lexer": "ipython3",
   "version": "3.11.7"
  }
 },
 "nbformat": 4,
 "nbformat_minor": 2
}
